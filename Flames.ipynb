{
 "cells": [
  {
   "cell_type": "code",
   "execution_count": 1,
   "id": "dd34ea55-1303-4c95-80b3-5cb25ea3691f",
   "metadata": {},
   "outputs": [
    {
     "name": "stdin",
     "output_type": "stream",
     "text": [
      "Enter your name:  Salman\n",
      "Enter your partner's name:  Aishwarya\n"
     ]
    }
   ],
   "source": [
    "name = list(input(\"Enter your name: \"))\n",
    "mate = list(input(\"Enter your partner's name: \"))"
   ]
  },
  {
   "cell_type": "code",
   "execution_count": 2,
   "id": "17059602-1a78-429c-a2ec-a6d1186a8367",
   "metadata": {},
   "outputs": [],
   "source": [
    "a = []\n",
    "for i in name:\n",
    "    for j in mate:\n",
    "        if i==j:\n",
    "            a.append(i)\n",
    "            break"
   ]
  },
  {
   "cell_type": "code",
   "execution_count": 3,
   "id": "ee27e895-eeac-4a98-958a-7ad21fbbced2",
   "metadata": {},
   "outputs": [],
   "source": [
    "for i in a:\n",
    "    name.remove(i)\n",
    "    mate.remove(i)"
   ]
  },
  {
   "cell_type": "code",
   "execution_count": 4,
   "id": "c2117a6a-c4ca-4df8-971b-8c9ff9124898",
   "metadata": {},
   "outputs": [],
   "source": [
    "flames = name + mate\n",
    "num = len(flames)"
   ]
  },
  {
   "cell_type": "code",
   "execution_count": 5,
   "id": "faaa48c9-11f7-4e70-aad2-aa01a7dba8c3",
   "metadata": {},
   "outputs": [
    {
     "name": "stdout",
     "output_type": "stream",
     "text": [
      "You both are Enemies.\n"
     ]
    }
   ],
   "source": [
    "op = num%6\n",
    "if op==1:\n",
    "    print(\"You both are Friends.\")\n",
    "elif op==2:\n",
    "    print(\"You both are Lovers.\")\n",
    "elif op==3:\n",
    "    print(\"You are Affectionate about each other.\")\n",
    "elif op==4:\n",
    "    print(\"You both will get Married.\")\n",
    "elif op==5:\n",
    "    print(\"You both are Enemies.\")\n",
    "elif op==0:\n",
    "    print(\"You both are Siblings.\")"
   ]
  }
 ],
 "metadata": {
  "kernelspec": {
   "display_name": "Python 3 (ipykernel)",
   "language": "python",
   "name": "python3"
  },
  "language_info": {
   "codemirror_mode": {
    "name": "ipython",
    "version": 3
   },
   "file_extension": ".py",
   "mimetype": "text/x-python",
   "name": "python",
   "nbconvert_exporter": "python",
   "pygments_lexer": "ipython3",
   "version": "3.12.0"
  }
 },
 "nbformat": 4,
 "nbformat_minor": 5
}
